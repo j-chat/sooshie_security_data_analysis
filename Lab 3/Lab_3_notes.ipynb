{
 "cells": [
  {
   "cell_type": "markdown",
   "metadata": {},
   "source": [
    "# Lab 3\n",
    "\n",
    "## Introduction\n",
    "Since the previous labs have provided a (hopefully) good foundation in the various tools that will be used, this lab will explore some of the Statistics functions available for analysis. Overall this should be a gentle introduction (or reminder) about basic statistical analysis.This lab will pick up a the dataset used in Lab 1, building on your knowledge of dataframes, this lab gives the opportunity to explore what types of functions they export for data analysis.\n",
    "\n",
    "Some goals will be how to quickly summarize data, know how to get at specific values/features of data, understand how the data looks (statistically), and how to understand the layout of the data.\n",
    "\n",
    "### Useful Terminology\n",
    "**Mean (mu)** - The average, the sum of the numbers divided by the number of numbers.\n",
    "\n",
    "**Mode** - The number that occurs most frequently.\n",
    "\n",
    "**Median** - The middle number when the numbers are sorted, or with an even number of numbers the average of the two middle numbers.\n",
    "\n",
    "**Standard Deviation (sigma)** - The dispersion from the mean. The larger the standard deviation, the more spread out the numbers are.\n",
    "\n",
    "**Variance** - How spread out the numbers are. A Variance of zero means all numbers are the same. Similar to Standard Deviation.\n",
    "___"
   ]
  },
  {
   "cell_type": "markdown",
   "metadata": {},
   "source": [
    "## Exercises\n",
    "\n",
    "### File Input\n",
    "Using what you learned in the last lab read in the log (csv) file provided for you.\n",
    "\n",
    "#### Hints\n",
    "* The file name is in the \"../Lab 1/ directory and is called *conn_sample.log*\n",
    "* There is no header to the file\n",
    "* It's *[TAB]* separated\n",
    "* The fields are: 'ts', 'uid', 'id.orig_h', 'id.orig_p', 'id.resp_h', 'id.resp_p', 'proto', 'service', 'duration', 'orig_bytes', 'resp_bytes', 'conn_state', 'local_orig', 'missed_bytes', 'history', 'orig_pkts', 'orig_ip_bytes', 'resp_pkts', 'resp_ip_bytes', 'tunnel_parents', 'threat', 'sample'"
   ]
  },
  {
   "cell_type": "code",
   "execution_count": 1,
   "metadata": {},
   "outputs": [],
   "source": [
    "import pandas as pd\n",
    "import numpy as np\n",
    "\n",
    "df = pd.read_csv('conn_sample.log', sep=\"\\t\", header=None, names=['ts','uid','id.orig_h','id.orig_p','id.resp_h','id.resp_p','proto','service','duration','orig_bytes','resp_bytes','conn_state','local_orig','missed_bytes','history','orig_pkts','orig_ip_bytes','resp_pkts','resp_ip_bytes','tunnel_parents','threat','sample'])"
   ]
  },
  {
   "cell_type": "markdown",
   "metadata": {},
   "source": [
    "<font color='blue'>\n",
    "I have imported the numpy package for later use and copied the conn_sample.log to the Lab 3 directory. \n",
    "</font>"
   ]
  },
  {
   "cell_type": "markdown",
   "metadata": {},
   "source": [
    "After running the above cell, run this one to verify that you've got data in the dataframe, and that it looks \"correct enough\"."
   ]
  },
  {
   "cell_type": "code",
   "execution_count": 2,
   "metadata": {},
   "outputs": [
    {
     "data": {
      "text/html": [
       "<div>\n",
       "<style scoped>\n",
       "    .dataframe tbody tr th:only-of-type {\n",
       "        vertical-align: middle;\n",
       "    }\n",
       "\n",
       "    .dataframe tbody tr th {\n",
       "        vertical-align: top;\n",
       "    }\n",
       "\n",
       "    .dataframe thead th {\n",
       "        text-align: right;\n",
       "    }\n",
       "</style>\n",
       "<table border=\"1\" class=\"dataframe\">\n",
       "  <thead>\n",
       "    <tr style=\"text-align: right;\">\n",
       "      <th></th>\n",
       "      <th>ts</th>\n",
       "      <th>uid</th>\n",
       "      <th>id.orig_h</th>\n",
       "      <th>id.orig_p</th>\n",
       "      <th>id.resp_h</th>\n",
       "      <th>id.resp_p</th>\n",
       "      <th>proto</th>\n",
       "      <th>service</th>\n",
       "      <th>duration</th>\n",
       "      <th>orig_bytes</th>\n",
       "      <th>...</th>\n",
       "      <th>local_orig</th>\n",
       "      <th>missed_bytes</th>\n",
       "      <th>history</th>\n",
       "      <th>orig_pkts</th>\n",
       "      <th>orig_ip_bytes</th>\n",
       "      <th>resp_pkts</th>\n",
       "      <th>resp_ip_bytes</th>\n",
       "      <th>tunnel_parents</th>\n",
       "      <th>threat</th>\n",
       "      <th>sample</th>\n",
       "    </tr>\n",
       "  </thead>\n",
       "  <tbody>\n",
       "    <tr>\n",
       "      <th>0</th>\n",
       "      <td>1.331901e+09</td>\n",
       "      <td>CzzTdG1vmwELxPECo6</td>\n",
       "      <td>192.168.202.79</td>\n",
       "      <td>46243</td>\n",
       "      <td>192.168.229.254</td>\n",
       "      <td>443</td>\n",
       "      <td>tcp</td>\n",
       "      <td>ssl</td>\n",
       "      <td>0.020000</td>\n",
       "      <td>539</td>\n",
       "      <td>...</td>\n",
       "      <td>-</td>\n",
       "      <td>0</td>\n",
       "      <td>ShADadfFr</td>\n",
       "      <td>8</td>\n",
       "      <td>963</td>\n",
       "      <td>13</td>\n",
       "      <td>1744</td>\n",
       "      <td>(empty)</td>\n",
       "      <td>NaN</td>\n",
       "      <td>NaN</td>\n",
       "    </tr>\n",
       "    <tr>\n",
       "      <th>1</th>\n",
       "      <td>1.331901e+09</td>\n",
       "      <td>C3WlGc3MKqYX4yew4i</td>\n",
       "      <td>192.168.202.79</td>\n",
       "      <td>50798</td>\n",
       "      <td>192.168.229.251</td>\n",
       "      <td>80</td>\n",
       "      <td>tcp</td>\n",
       "      <td>http</td>\n",
       "      <td>0.020000</td>\n",
       "      <td>173</td>\n",
       "      <td>...</td>\n",
       "      <td>-</td>\n",
       "      <td>0</td>\n",
       "      <td>ShADfFa</td>\n",
       "      <td>4</td>\n",
       "      <td>389</td>\n",
       "      <td>3</td>\n",
       "      <td>422</td>\n",
       "      <td>(empty)</td>\n",
       "      <td>NaN</td>\n",
       "      <td>NaN</td>\n",
       "    </tr>\n",
       "    <tr>\n",
       "      <th>2</th>\n",
       "      <td>1.331901e+09</td>\n",
       "      <td>CgyJe94ZUZCLDEm4Ed</td>\n",
       "      <td>192.168.202.79</td>\n",
       "      <td>46579</td>\n",
       "      <td>192.168.229.254</td>\n",
       "      <td>443</td>\n",
       "      <td>tcp</td>\n",
       "      <td>ssl</td>\n",
       "      <td>0.010000</td>\n",
       "      <td>547</td>\n",
       "      <td>...</td>\n",
       "      <td>-</td>\n",
       "      <td>0</td>\n",
       "      <td>ShADadfFr</td>\n",
       "      <td>8</td>\n",
       "      <td>971</td>\n",
       "      <td>13</td>\n",
       "      <td>1744</td>\n",
       "      <td>(empty)</td>\n",
       "      <td>NaN</td>\n",
       "      <td>NaN</td>\n",
       "    </tr>\n",
       "    <tr>\n",
       "      <th>3</th>\n",
       "      <td>1.331901e+09</td>\n",
       "      <td>CwV1MF8pLSHKwAQA4</td>\n",
       "      <td>192.168.202.76</td>\n",
       "      <td>51673</td>\n",
       "      <td>149.5.45.166</td>\n",
       "      <td>80</td>\n",
       "      <td>tcp</td>\n",
       "      <td>-</td>\n",
       "      <td>3.000000</td>\n",
       "      <td>0</td>\n",
       "      <td>...</td>\n",
       "      <td>-</td>\n",
       "      <td>0</td>\n",
       "      <td>S</td>\n",
       "      <td>2</td>\n",
       "      <td>104</td>\n",
       "      <td>0</td>\n",
       "      <td>0</td>\n",
       "      <td>(empty)</td>\n",
       "      <td>NaN</td>\n",
       "      <td>NaN</td>\n",
       "    </tr>\n",
       "    <tr>\n",
       "      <th>4</th>\n",
       "      <td>1.331901e+09</td>\n",
       "      <td>CyTR8y2igFLhViL5K3</td>\n",
       "      <td>192.168.202.79</td>\n",
       "      <td>57151</td>\n",
       "      <td>192.168.229.251</td>\n",
       "      <td>143</td>\n",
       "      <td>tcp</td>\n",
       "      <td>-</td>\n",
       "      <td>-</td>\n",
       "      <td>-</td>\n",
       "      <td>...</td>\n",
       "      <td>-</td>\n",
       "      <td>0</td>\n",
       "      <td>ShR</td>\n",
       "      <td>2</td>\n",
       "      <td>84</td>\n",
       "      <td>1</td>\n",
       "      <td>44</td>\n",
       "      <td>(empty)</td>\n",
       "      <td>NaN</td>\n",
       "      <td>NaN</td>\n",
       "    </tr>\n",
       "  </tbody>\n",
       "</table>\n",
       "<p>5 rows × 22 columns</p>\n",
       "</div>"
      ],
      "text/plain": [
       "             ts                 uid       id.orig_h  id.orig_p  \\\n",
       "0  1.331901e+09  CzzTdG1vmwELxPECo6  192.168.202.79      46243   \n",
       "1  1.331901e+09  C3WlGc3MKqYX4yew4i  192.168.202.79      50798   \n",
       "2  1.331901e+09  CgyJe94ZUZCLDEm4Ed  192.168.202.79      46579   \n",
       "3  1.331901e+09   CwV1MF8pLSHKwAQA4  192.168.202.76      51673   \n",
       "4  1.331901e+09  CyTR8y2igFLhViL5K3  192.168.202.79      57151   \n",
       "\n",
       "         id.resp_h  id.resp_p proto service  duration orig_bytes  ...  \\\n",
       "0  192.168.229.254        443   tcp     ssl  0.020000        539  ...   \n",
       "1  192.168.229.251         80   tcp    http  0.020000        173  ...   \n",
       "2  192.168.229.254        443   tcp     ssl  0.010000        547  ...   \n",
       "3     149.5.45.166         80   tcp       -  3.000000          0  ...   \n",
       "4  192.168.229.251        143   tcp       -         -          -  ...   \n",
       "\n",
       "  local_orig missed_bytes    history  orig_pkts orig_ip_bytes  resp_pkts  \\\n",
       "0          -            0  ShADadfFr          8           963         13   \n",
       "1          -            0    ShADfFa          4           389          3   \n",
       "2          -            0  ShADadfFr          8           971         13   \n",
       "3          -            0          S          2           104          0   \n",
       "4          -            0        ShR          2            84          1   \n",
       "\n",
       "   resp_ip_bytes  tunnel_parents  threat sample  \n",
       "0           1744         (empty)     NaN    NaN  \n",
       "1            422         (empty)     NaN    NaN  \n",
       "2           1744         (empty)     NaN    NaN  \n",
       "3              0         (empty)     NaN    NaN  \n",
       "4             44         (empty)     NaN    NaN  \n",
       "\n",
       "[5 rows x 22 columns]"
      ]
     },
     "execution_count": 2,
     "metadata": {},
     "output_type": "execute_result"
    }
   ],
   "source": [
    "df.head()"
   ]
  },
  {
   "cell_type": "markdown",
   "metadata": {},
   "source": [
    "Once again time for data cleanup!\n",
    "\n",
    "The cell below will, if you remember, fill all NaN valued cells with 0. The assumption here is that if Bro didn't fill in a value it's safe to set that value to zero. After that let's see what pandas determined the columns to be."
   ]
  },
  {
   "cell_type": "code",
   "execution_count": 3,
   "metadata": {},
   "outputs": [],
   "source": [
    "df = df.fillna(0)"
   ]
  },
  {
   "cell_type": "markdown",
   "metadata": {},
   "source": [
    "<font color='blue'>\n",
    "This means that every NaN in the threat and sample columns would be replaced with the value zero.\n",
    "This is a common data cleaning technique. I think it is better to replace the NaNs with a value than dropping them entirely. \n",
    "</font>"
   ]
  },
  {
   "cell_type": "code",
   "execution_count": 4,
   "metadata": {},
   "outputs": [
    {
     "data": {
      "text/plain": [
       "ts                float64\n",
       "uid                object\n",
       "id.orig_h          object\n",
       "id.orig_p           int64\n",
       "id.resp_h          object\n",
       "id.resp_p           int64\n",
       "proto              object\n",
       "service            object\n",
       "duration           object\n",
       "orig_bytes         object\n",
       "resp_bytes         object\n",
       "conn_state         object\n",
       "local_orig         object\n",
       "missed_bytes        int64\n",
       "history            object\n",
       "orig_pkts           int64\n",
       "orig_ip_bytes       int64\n",
       "resp_pkts           int64\n",
       "resp_ip_bytes       int64\n",
       "tunnel_parents     object\n",
       "threat            float64\n",
       "sample            float64\n",
       "dtype: object"
      ]
     },
     "execution_count": 4,
     "metadata": {},
     "output_type": "execute_result"
    }
   ],
   "source": [
    "df.dtypes"
   ]
  },
  {
   "cell_type": "markdown",
   "metadata": {},
   "source": [
    "### More Data Cleanup\n",
    "\n",
    "In data produced by Bro, it will often put a *-* if it can't determine a value or one wasn't seen. It's likely you saw quite a few of these in the _head()_ command above. These have a couple of different effects on the data, they can cause pandas to not recognize the column as being purely numeric and because of that it won't compute data statistics for us.\n",
    "\n",
    "\n",
    "#### Value substitution\n",
    "\n",
    "The following columns need to be cleaned up this way: *orig_bytes*, *duration*, and *resp_bytes*.\n",
    "\n",
    "It's important to understand the changes that you make to the underlying data by substituting values. First let's take a look at some of the differences, then make the changes to the rest of the columns.\n",
    "\n",
    "First, make all Bro unknowns *-* into numpy unknowns *np.nan*, and see what that does."
   ]
  },
  {
   "cell_type": "code",
   "execution_count": 5,
   "metadata": {},
   "outputs": [
    {
     "data": {
      "text/plain": [
       "count    3.937500e+04\n",
       "mean     4.065622e+05\n",
       "std      2.847713e+07\n",
       "min      0.000000e+00\n",
       "25%      0.000000e+00\n",
       "50%      0.000000e+00\n",
       "75%      0.000000e+00\n",
       "max      3.409522e+09\n",
       "Name: orig_bytes, dtype: float64"
      ]
     },
     "execution_count": 5,
     "metadata": {},
     "output_type": "execute_result"
    }
   ],
   "source": [
    "df['orig_bytes'].apply(lambda x: np.nan if x == '-' else x).astype(np.float64).describe()"
   ]
  },
  {
   "cell_type": "markdown",
   "metadata": {},
   "source": [
    "<font color='blue'>\n",
    "Here, any '-' values in the column orig_bytes are replaced with NaNs. I have replaced float64 with np.float64: \n",
    "\n",
    "https://stackoverflow.com/questions/34320268/valid-parameters-for-astype-in-numpy \n",
    "</font>"
   ]
  },
  {
   "cell_type": "markdown",
   "metadata": {},
   "source": [
    "Then a similar change to make all Bro unknowns *-* into zeros, and check the output. \n",
    "\n",
    "What are some of the differences?"
   ]
  },
  {
   "cell_type": "code",
   "execution_count": 6,
   "metadata": {},
   "outputs": [
    {
     "data": {
      "text/plain": [
       "count    2.269430e+05\n",
       "mean     7.053924e+04\n",
       "std      1.186261e+07\n",
       "min      0.000000e+00\n",
       "25%      0.000000e+00\n",
       "50%      0.000000e+00\n",
       "75%      0.000000e+00\n",
       "max      3.409522e+09\n",
       "Name: orig_bytes, dtype: float64"
      ]
     },
     "execution_count": 6,
     "metadata": {},
     "output_type": "execute_result"
    }
   ],
   "source": [
    "df['orig_bytes'].apply(lambda x: 0 if x == '-' else x).astype(np.float64).describe()"
   ]
  },
  {
   "cell_type": "markdown",
   "metadata": {},
   "source": [
    "<font color='blue'>\n",
    "Replacing the '-' values with zeroes changes the count, mean, and standard deviation. \n",
    "</font>"
   ]
  },
  {
   "cell_type": "markdown",
   "metadata": {},
   "source": [
    "Pick one method, come up with your justification, and do the assignment for all the columns listed above. This can be done using a lambda function inside the **apply()** function. A lambda (function) is an anonymous function or one that is not bound to a specific name.\n",
    "\n",
    "A partial sample has been provided."
   ]
  },
  {
   "cell_type": "code",
   "execution_count": 7,
   "metadata": {},
   "outputs": [],
   "source": [
    "df['orig_bytes'] = df['orig_bytes'].apply(lambda x: np.nan if x == '-' else x).astype(np.float64)\n",
    "df['duration'] = df['duration'].apply(lambda x: np.nan if x == '-' else x).astype(np.float64)\n",
    "df['resp_bytes'] = df['resp_bytes'].apply(lambda x: np.nan if x == '-' else x).astype(np.float64)"
   ]
  },
  {
   "cell_type": "markdown",
   "metadata": {},
   "source": [
    "<font color='blue'>\n",
    "The columns: orig_bytes, duration, and resp_bytes mostly hold numerical values.\n",
    "</font>"
   ]
  },
  {
   "cell_type": "markdown",
   "metadata": {},
   "source": [
    "#### Remove un-needed columns\n",
    "\n",
    "The columns: *ts*, *uid*, *proto*, *service*, *conn_state*, *local_orig*, *history*, *tunnel_parents*, *threat*, *sample* aren't needed for this lab. Let's get rid of them."
   ]
  },
  {
   "cell_type": "code",
   "execution_count": 8,
   "metadata": {},
   "outputs": [],
   "source": [
    "df.drop(['ts','uid','proto','service','conn_state','local_orig','history','tunnel_parents','threat','sample'], axis=1, inplace=True)"
   ]
  },
  {
   "cell_type": "markdown",
   "metadata": {},
   "source": [
    "<font color='blue'>\n",
    "Dropping these columns will give us a tidier and smaller dataset to work with. \n",
    "</font>"
   ]
  },
  {
   "cell_type": "markdown",
   "metadata": {},
   "source": [
    "#### Change column types\n",
    "\n",
    "Once again, in order to do analysis, columns should be set to the correct data type.\n",
    "\n",
    "Use the information/examples above to set orig_pkts, resp_pkts, and missed_bytes to *float64* and id.orig_p and id.resp_p to *object*"
   ]
  },
  {
   "cell_type": "code",
   "execution_count": 9,
   "metadata": {},
   "outputs": [],
   "source": [
    "df['orig_pkts'] = df['orig_pkts'].apply(lambda x: np.nan if x == '-' else x).astype(np.float64)\n",
    "df['resp_pkts'] = df['resp_pkts'].apply(lambda x: np.nan if x == '-' else x).astype(np.float64)\n",
    "df['missed_bytes'] = df['missed_bytes'].apply(lambda x: np.nan if x == '-' else x).astype(np.float64)\n",
    "df['id.orig_p'] = df['id.orig_p'].apply(lambda x: np.nan if x == '-' else x).astype(object)\n",
    "df['id.resp_p'] = df['id.resp_p'].apply(lambda x: np.nan if x == '-' else x).astype(object)"
   ]
  },
  {
   "cell_type": "markdown",
   "metadata": {},
   "source": [
    "<font color='blue'>\n",
    "Not all columns had '-' values, but applying the conditional statement won't make too much of a difference. \n",
    "</font>"
   ]
  },
  {
   "cell_type": "markdown",
   "metadata": {},
   "source": [
    "Last but not least, The values of (empty) can creep into the data as well (it was seen in orig_ip_bytes and resp_ip_bytes), substitute these out for your chosen value above. Also, because later on we'll do some division, set all zeros to **np.nan** in the *resp_ip_bytes* column.\n",
    "\n",
    "Make sure to verify that all your changes have held! \n",
    "\n",
    "*Hint: use the dtypes property*"
   ]
  },
  {
   "cell_type": "code",
   "execution_count": 10,
   "metadata": {},
   "outputs": [
    {
     "data": {
      "text/plain": [
       "id.orig_h         object\n",
       "id.orig_p         object\n",
       "id.resp_h         object\n",
       "id.resp_p         object\n",
       "duration         float64\n",
       "orig_bytes       float64\n",
       "resp_bytes       float64\n",
       "missed_bytes     float64\n",
       "orig_pkts        float64\n",
       "orig_ip_bytes    float64\n",
       "resp_pkts        float64\n",
       "resp_ip_bytes    float64\n",
       "dtype: object"
      ]
     },
     "execution_count": 10,
     "metadata": {},
     "output_type": "execute_result"
    }
   ],
   "source": [
    "df['orig_ip_bytes'] = df['orig_ip_bytes'].apply(lambda x: np.nan if x == '-' else x).astype(np.float64)\n",
    "df['resp_ip_bytes'] = df['resp_ip_bytes'].apply(lambda x: np.nan if x == '-' or x == 0 else x).astype(np.float64)\n",
    "df.dtypes"
   ]
  },
  {
   "cell_type": "markdown",
   "metadata": {},
   "source": [
    "<font color='blue'>\n",
    "Looking at the data, only one of the columns (tunnel_parents) had empty values and that column was already dropped. \n",
    "</font>"
   ]
  },
  {
   "cell_type": "markdown",
   "metadata": {},
   "source": [
    "### Feature Engineering for More Stats!\n",
    "\n",
    "A simple exercise on how you can combine (now 2 numeric) features to create yet another numeric feature that can give you more insight into the data.\n",
    "\n",
    "You can perform mathematical operations on columns and assign them to a new column. Run the cell below to see how it's done, and check out some of the initial values."
   ]
  },
  {
   "cell_type": "code",
   "execution_count": 11,
   "metadata": {},
   "outputs": [
    {
     "data": {
      "text/plain": [
       "0    0.552179\n",
       "1    0.921801\n",
       "2    0.556766\n",
       "3         NaN\n",
       "4    1.909091\n",
       "Name: out_in_ratio, dtype: float64"
      ]
     },
     "execution_count": 11,
     "metadata": {},
     "output_type": "execute_result"
    }
   ],
   "source": [
    "df['out_in_ratio'] = df['orig_ip_bytes']/df['resp_ip_bytes']\n",
    "df['out_in_ratio'].head()"
   ]
  },
  {
   "cell_type": "markdown",
   "metadata": {},
   "source": [
    "<font color='blue'>\n",
    "Feature engineering is combining multiple features to create new ones: \n",
    "    \n",
    "https://en.wikipedia.org/wiki/Feature_engineering\n",
    "It helps to reduce the dataset size for machine learning algorithms. It is not an easy task, but this example examines the relationship between orig_ip_bytes and resp_ip_bytes as a ratio.  \n",
    "\n",
    "The NaN value comes from dividing a number over NaN. \n",
    "</font>"
   ]
  },
  {
   "cell_type": "markdown",
   "metadata": {},
   "source": [
    "#### Statistical Summarization\n",
    "\n",
    "As we've explored before, the **describe()** function can be used to summarize all the numerical columns in a dataframe. What happens run this is run on our our modified (and nicely cleaned up) dataframe?\n",
    "\n",
    "Did the newly created column appear as well? Anything interesting about it?"
   ]
  },
  {
   "cell_type": "code",
   "execution_count": 12,
   "metadata": {},
   "outputs": [
    {
     "data": {
      "text/html": [
       "<div>\n",
       "<style scoped>\n",
       "    .dataframe tbody tr th:only-of-type {\n",
       "        vertical-align: middle;\n",
       "    }\n",
       "\n",
       "    .dataframe tbody tr th {\n",
       "        vertical-align: top;\n",
       "    }\n",
       "\n",
       "    .dataframe thead th {\n",
       "        text-align: right;\n",
       "    }\n",
       "</style>\n",
       "<table border=\"1\" class=\"dataframe\">\n",
       "  <thead>\n",
       "    <tr style=\"text-align: right;\">\n",
       "      <th></th>\n",
       "      <th>duration</th>\n",
       "      <th>orig_bytes</th>\n",
       "      <th>resp_bytes</th>\n",
       "      <th>missed_bytes</th>\n",
       "      <th>orig_pkts</th>\n",
       "      <th>orig_ip_bytes</th>\n",
       "      <th>resp_pkts</th>\n",
       "      <th>resp_ip_bytes</th>\n",
       "      <th>out_in_ratio</th>\n",
       "    </tr>\n",
       "  </thead>\n",
       "  <tbody>\n",
       "    <tr>\n",
       "      <th>count</th>\n",
       "      <td>39375.000000</td>\n",
       "      <td>3.937500e+04</td>\n",
       "      <td>3.937500e+04</td>\n",
       "      <td>226943.0</td>\n",
       "      <td>226943.000000</td>\n",
       "      <td>226943.000000</td>\n",
       "      <td>226943.000000</td>\n",
       "      <td>1.290890e+05</td>\n",
       "      <td>129089.000000</td>\n",
       "    </tr>\n",
       "    <tr>\n",
       "      <th>mean</th>\n",
       "      <td>1.112672</td>\n",
       "      <td>4.065622e+05</td>\n",
       "      <td>6.676380e+02</td>\n",
       "      <td>0.0</td>\n",
       "      <td>1.372472</td>\n",
       "      <td>121.946255</td>\n",
       "      <td>0.836157</td>\n",
       "      <td>2.739069e+02</td>\n",
       "      <td>1.351091</td>\n",
       "    </tr>\n",
       "    <tr>\n",
       "      <th>std</th>\n",
       "      <td>17.880325</td>\n",
       "      <td>2.847713e+07</td>\n",
       "      <td>1.577141e+04</td>\n",
       "      <td>0.0</td>\n",
       "      <td>6.463269</td>\n",
       "      <td>1935.458915</td>\n",
       "      <td>6.634548</td>\n",
       "      <td>9.075655e+03</td>\n",
       "      <td>0.793445</td>\n",
       "    </tr>\n",
       "    <tr>\n",
       "      <th>min</th>\n",
       "      <td>0.009999</td>\n",
       "      <td>0.000000e+00</td>\n",
       "      <td>0.000000e+00</td>\n",
       "      <td>0.0</td>\n",
       "      <td>0.000000</td>\n",
       "      <td>0.000000</td>\n",
       "      <td>0.000000</td>\n",
       "      <td>2.800000e+01</td>\n",
       "      <td>0.000000</td>\n",
       "    </tr>\n",
       "    <tr>\n",
       "      <th>25%</th>\n",
       "      <td>0.010000</td>\n",
       "      <td>0.000000e+00</td>\n",
       "      <td>0.000000e+00</td>\n",
       "      <td>0.0</td>\n",
       "      <td>1.000000</td>\n",
       "      <td>44.000000</td>\n",
       "      <td>0.000000</td>\n",
       "      <td>4.000000e+01</td>\n",
       "      <td>1.100000</td>\n",
       "    </tr>\n",
       "    <tr>\n",
       "      <th>50%</th>\n",
       "      <td>0.020000</td>\n",
       "      <td>0.000000e+00</td>\n",
       "      <td>0.000000e+00</td>\n",
       "      <td>0.0</td>\n",
       "      <td>1.000000</td>\n",
       "      <td>48.000000</td>\n",
       "      <td>1.000000</td>\n",
       "      <td>4.000000e+01</td>\n",
       "      <td>1.500000</td>\n",
       "    </tr>\n",
       "    <tr>\n",
       "      <th>75%</th>\n",
       "      <td>0.100000</td>\n",
       "      <td>0.000000e+00</td>\n",
       "      <td>0.000000e+00</td>\n",
       "      <td>0.0</td>\n",
       "      <td>1.000000</td>\n",
       "      <td>60.000000</td>\n",
       "      <td>1.000000</td>\n",
       "      <td>4.000000e+01</td>\n",
       "      <td>1.500000</td>\n",
       "    </tr>\n",
       "    <tr>\n",
       "      <th>max</th>\n",
       "      <td>1578.140000</td>\n",
       "      <td>3.409522e+09</td>\n",
       "      <td>2.585932e+06</td>\n",
       "      <td>0.0</td>\n",
       "      <td>1034.000000</td>\n",
       "      <td>718677.000000</td>\n",
       "      <td>1894.000000</td>\n",
       "      <td>2.684428e+06</td>\n",
       "      <td>56.897436</td>\n",
       "    </tr>\n",
       "  </tbody>\n",
       "</table>\n",
       "</div>"
      ],
      "text/plain": [
       "           duration    orig_bytes    resp_bytes  missed_bytes      orig_pkts  \\\n",
       "count  39375.000000  3.937500e+04  3.937500e+04      226943.0  226943.000000   \n",
       "mean       1.112672  4.065622e+05  6.676380e+02           0.0       1.372472   \n",
       "std       17.880325  2.847713e+07  1.577141e+04           0.0       6.463269   \n",
       "min        0.009999  0.000000e+00  0.000000e+00           0.0       0.000000   \n",
       "25%        0.010000  0.000000e+00  0.000000e+00           0.0       1.000000   \n",
       "50%        0.020000  0.000000e+00  0.000000e+00           0.0       1.000000   \n",
       "75%        0.100000  0.000000e+00  0.000000e+00           0.0       1.000000   \n",
       "max     1578.140000  3.409522e+09  2.585932e+06           0.0    1034.000000   \n",
       "\n",
       "       orig_ip_bytes      resp_pkts  resp_ip_bytes   out_in_ratio  \n",
       "count  226943.000000  226943.000000   1.290890e+05  129089.000000  \n",
       "mean      121.946255       0.836157   2.739069e+02       1.351091  \n",
       "std      1935.458915       6.634548   9.075655e+03       0.793445  \n",
       "min         0.000000       0.000000   2.800000e+01       0.000000  \n",
       "25%        44.000000       0.000000   4.000000e+01       1.100000  \n",
       "50%        48.000000       1.000000   4.000000e+01       1.500000  \n",
       "75%        60.000000       1.000000   4.000000e+01       1.500000  \n",
       "max    718677.000000    1894.000000   2.684428e+06      56.897436  "
      ]
     },
     "execution_count": 12,
     "metadata": {},
     "output_type": "execute_result"
    }
   ],
   "source": [
    "df.describe()"
   ]
  },
  {
   "cell_type": "markdown",
   "metadata": {},
   "source": [
    "<font color='blue'>\n",
    "The standard deviation for the new column is significantly small, 0.79.\n",
    "</font>"
   ]
  },
  {
   "cell_type": "markdown",
   "metadata": {},
   "source": [
    "There are specific functions that allow for computing the various values one at a time. \n",
    "\n",
    "Try computing the Standard Deviation of *orig_ip_bytes* using the **std()** function."
   ]
  },
  {
   "cell_type": "code",
   "execution_count": 13,
   "metadata": {},
   "outputs": [
    {
     "data": {
      "text/plain": [
       "1935.4589146067328"
      ]
     },
     "execution_count": 13,
     "metadata": {},
     "output_type": "execute_result"
    }
   ],
   "source": [
    "df.orig_ip_bytes.std()"
   ]
  },
  {
   "cell_type": "markdown",
   "metadata": {},
   "source": [
    "Try computing the Variance of *orig_ip_bytes* using the **var()** function."
   ]
  },
  {
   "cell_type": "code",
   "execution_count": 14,
   "metadata": {},
   "outputs": [
    {
     "data": {
      "text/plain": [
       "3746001.2101306724"
      ]
     },
     "execution_count": 14,
     "metadata": {},
     "output_type": "execute_result"
    }
   ],
   "source": [
    "df.orig_ip_bytes.var()"
   ]
  },
  {
   "cell_type": "markdown",
   "metadata": {},
   "source": [
    "<font color='blue'>\n",
    "The standard deviation is a large value. This means the distrubtion for orig_ip_bytes is wide; the values are further spead out. Indeed, the maximum value of that column is 718,677 and it has a very far distance from the mean, 121.95.\n",
    "</font>"
   ]
  },
  {
   "cell_type": "markdown",
   "metadata": {},
   "source": [
    "What were the results? Why do you think that's the case?\n",
    "\n",
    "*Hint: <a href=\"http://en.wikipedia.org/wiki/Standard_deviation#Basic_examples\">Wikipedia</a> has a great example of how to computer the Standard Deviation, and remember the variance is just the standard deviation squared*\n",
    "\n",
    "Below the scipy stats module can be used to compute the mode. Any surprises with the result?"
   ]
  },
  {
   "cell_type": "code",
   "execution_count": 15,
   "metadata": {},
   "outputs": [
    {
     "data": {
      "text/plain": [
       "ModeResult(mode=array([60.]), count=array([81836.]))"
      ]
     },
     "execution_count": 15,
     "metadata": {},
     "output_type": "execute_result"
    }
   ],
   "source": [
    "from scipy.stats.mstats import mode\n",
    "f = lambda x: mode(x, axis=None)[0]\n",
    "#[value, count] returned by mode()\n",
    "mode(df.orig_ip_bytes)"
   ]
  },
  {
   "cell_type": "markdown",
   "metadata": {},
   "source": [
    "<font color='blue'>\n",
    "This means that 60 is the most common value in orig_ip_bytes.\n",
    "    \n",
    "No, I am not surprised. This calculation has no relation to standard deviation, which depends on the (square root of the) average squared distance between the mean and the observations of the data. \n",
    "</font>"
   ]
  },
  {
   "cell_type": "markdown",
   "metadata": {},
   "source": [
    "### Box Plots\n",
    "\n",
    "Also known as box whisker plots, these can be used to get a good feel for how distributed the data looks. By default the box will cover the upper and lower quartiles (eg. the 25th - 75th percentile), and a red line will be at the 50th percentile. Whiskers (lines) will extend out to show the rest of the data, with (occasionally) filler points to show outliers.\n",
    "\n",
    "Here's how to create a simple boxplot so summarize the column that was added above."
   ]
  },
  {
   "cell_type": "code",
   "execution_count": 17,
   "metadata": {},
   "outputs": [
    {
     "data": {
      "text/plain": [
       "Text(0, 0.5, 'Out-In Byte Ratio')"
      ]
     },
     "execution_count": 17,
     "metadata": {},
     "output_type": "execute_result"
    },
    {
     "data": {
      "image/png": "[encoded data removed]",
      "text/plain": [
       "<Figure size 432x288 with 1 Axes>"
      ]
     },
     "metadata": {
      "needs_background": "light"
     },
     "output_type": "display_data"
    }
   ],
   "source": [
    "import matplotlib.pyplot as plt\n",
    "df.boxplot(column='orig_ip_bytes')\n",
    "plt.ylabel('Out-In Byte Ratio')"
   ]
  },
  {
   "cell_type": "markdown",
   "metadata": {},
   "source": [
    "<font color='blue'>\n",
    "I have imported the matplotlib.pyplot package to run the cell. \n",
    "\n",
    "Box plots are great to look at the distribution of a column:\n",
    "    \n",
    "https://datavizcatalogue.com/methods/box_plot.html\n",
    "There are some outliers that makes it difficult to see the box plot. \n",
    "</font>"
   ]
  },
  {
   "cell_type": "markdown",
   "metadata": {},
   "source": [
    "#### Slicing data\n",
    "\n",
    "It's possible to run these functions on slices or sub-selections of the data.\n",
    "\n",
    "Below, what happens when you run the **describe()** function on the set of numbers in *orig_ip_bytes* that are less than 200?\n",
    "\n",
    "What about if you pass the option of **percentiles=[.3,.5,.7]** to the **describe()** function?"
   ]
  },
  {
   "cell_type": "code",
   "execution_count": 18,
   "metadata": {},
   "outputs": [
    {
     "data": {
      "text/plain": [
       "count    219795.000000\n",
       "mean         52.280238\n",
       "std          11.164348\n",
       "min           0.000000\n",
       "25%          44.000000\n",
       "50%          48.000000\n",
       "75%          60.000000\n",
       "max         196.000000\n",
       "Name: orig_ip_bytes, dtype: float64"
      ]
     },
     "execution_count": 18,
     "metadata": {},
     "output_type": "execute_result"
    }
   ],
   "source": [
    "df[df.orig_ip_bytes < 200]['orig_ip_bytes'].describe()"
   ]
  },
  {
   "cell_type": "markdown",
   "metadata": {},
   "source": [
    "<font color='blue'>\n",
    "This condition has changed the summary statistics. The max value is now 196 instead of 718,677. The standard deviation is significantly much smaller. \n",
    "</font>"
   ]
  },
  {
   "cell_type": "code",
   "execution_count": 19,
   "metadata": {},
   "outputs": [
    {
     "data": {
      "text/plain": [
       "count    219795.000000\n",
       "mean         52.280238\n",
       "std          11.164348\n",
       "min           0.000000\n",
       "30%          44.000000\n",
       "50%          48.000000\n",
       "70%          60.000000\n",
       "max         196.000000\n",
       "Name: orig_ip_bytes, dtype: float64"
      ]
     },
     "execution_count": 19,
     "metadata": {},
     "output_type": "execute_result"
    }
   ],
   "source": [
    "df[df.orig_ip_bytes < 200]['orig_ip_bytes'].describe(percentiles=[.3,.5,.7])"
   ]
  },
  {
   "cell_type": "markdown",
   "metadata": {},
   "source": [
    "<font color='blue'>\n",
    "This condition changed the percentiles from its default: 25%, 50%, 75%. Though the values that lie on those percentiles have not changed. \n",
    "</font>"
   ]
  },
  {
   "cell_type": "markdown",
   "metadata": {},
   "source": [
    "#### Box plots on on slices\n",
    "\n",
    "Run the **boxplot()** function on the *orig_ip_bytes* column, after selecting all of the values from *orig_ip_bytes* that are less than 200 (like above). \n",
    "\n",
    "How does the plot look different from the one above?"
   ]
  },
  {
   "cell_type": "code",
   "execution_count": 20,
   "metadata": {},
   "outputs": [
    {
     "data": {
      "text/plain": [
       "Text(0, 0.5, 'Out-In Byte Ratio')"
      ]
     },
     "execution_count": 20,
     "metadata": {},
     "output_type": "execute_result"
    },
    {
     "data": {
      "image/png": "[encoded data removed]",
      "text/plain": [
       "<Figure size 432x288 with 1 Axes>"
      ]
     },
     "metadata": {
      "needs_background": "light"
     },
     "output_type": "display_data"
    }
   ],
   "source": [
    "df[df.orig_ip_bytes < 200].boxplot(column='orig_ip_bytes')\n",
    "plt.ylabel('Out-In Byte Ratio')"
   ]
  },
  {
   "cell_type": "markdown",
   "metadata": {},
   "source": [
    "<font color='blue'>\n",
    "This box plot looks clearer. \n",
    "</font>"
   ]
  },
  {
   "cell_type": "markdown",
   "metadata": {},
   "source": [
    "### Data Distribution\n",
    "\n",
    "It's useful to know the layout of your data for several reasons. One of them is due to some of the underlying assumptions some algorithms make on having continuous values. Or perhaps the data follows a Gaussian (normal) distribution. Using some of the techniques and functions from above you can begin to see how the data might be laid out. However, it's usful to compare it to known data sets (that follow a specific distribution).\n",
    "\n",
    "The following examples are based on some really nice code that The Glowing Python put together, that we've hacked up to suit our specific use case.\n",
    "\n",
    "In the first example, the numbers in the *orig_ip_bytes* are scaled (recentered around the mean), and with scikit learn (more on this later) the mean is 0 as well as the unit variance. This is a common cleaning step for Machine Learning algorithms. The scaled numbers are then compared to a randomly generated list of numbers that have the same number of numbers, and are bounded by the same min and max. The list of generated values is also computed with a given standard deviation and mean, as well as the defaults (to show how close the generated list is to \"ideal\". Both samples are compared against the numbers in scaled version of *orig_ip_bytes*.\n",
    "\n",
    "What happens to the graph when you remove **scale()** from around the **df.orig_ip_bytes.tolist()** section?"
   ]
  },
  {
   "cell_type": "code",
   "execution_count": 21,
   "metadata": {},
   "outputs": [
    {
     "data": {
      "image/png": "[encoded data removed]",
      "text/plain": [
       "<Figure size 432x288 with 1 Axes>"
      ]
     },
     "metadata": {
      "needs_background": "light"
     },
     "output_type": "display_data"
    }
   ],
   "source": [
    "# original code from: http://glowingpython.blogspot.com/2012/07/distribution-fitting-with-scipy.html\n",
    "from scipy.stats import norm\n",
    "from numpy import linspace\n",
    "from pylab import plot,show,hist,figure,title\n",
    "from sklearn.preprocessing import scale\n",
    "\n",
    "samp = scale(df.orig_ip_bytes.tolist())\n",
    "\n",
    "param = norm.fit(samp) # distribution fitting\n",
    "\n",
    "# now, param[0] and param[1] are the mean and \n",
    "# the standard deviation of the fitted distribution\n",
    "x = linspace(min(samp),max(samp),len(samp))\n",
    "# fitted distribution\n",
    "pdf_fitted = norm.pdf(x,loc=param[0],scale=param[1])\n",
    "# original distribution\n",
    "pdf = norm.pdf(x)\n",
    "\n",
    "title('Normal distribution vs. Bytes')\n",
    "plot(x,pdf_fitted,'r-')\n",
    "plot(x,pdf,'b-')\n",
    "hist(samp,density=1,alpha=.3)\n",
    "show()"
   ]
  },
  {
   "cell_type": "markdown",
   "metadata": {},
   "source": [
    "<font color='blue'>\n",
    "Changed normed to density due to deprecation warning: MatplotlibDeprecationWarning: \n",
    "The 'normed' kwarg was deprecated in Matplotlib 2.1 and will be removed in 3.1. Use 'density' instead.\n",
    "  alternative=\"'density'\", removal=\"3.1\"\n",
    "</font>"
   ]
  },
  {
   "cell_type": "code",
   "execution_count": 22,
   "metadata": {},
   "outputs": [
    {
     "data": {
      "image/png": "[encoded data removed]",
      "text/plain": [
       "<Figure size 432x288 with 1 Axes>"
      ]
     },
     "metadata": {
      "needs_background": "light"
     },
     "output_type": "display_data"
    }
   ],
   "source": [
    "samp = df.orig_ip_bytes.tolist()\n",
    "\n",
    "param = norm.fit(samp) # distribution fitting\n",
    "\n",
    "# now, param[0] and param[1] are the mean and \n",
    "# the standard deviation of the fitted distribution\n",
    "x = linspace(min(samp),max(samp),len(samp))\n",
    "# fitted distribution\n",
    "pdf_fitted = norm.pdf(x,loc=param[0],scale=param[1])\n",
    "# original distribution\n",
    "pdf = norm.pdf(x)\n",
    "\n",
    "title('Normal distribution vs. (unscaled) Bytes')\n",
    "plot(x,pdf_fitted,'r-')\n",
    "plot(x,pdf,'b-')\n",
    "hist(samp,density=1,alpha=.3)\n",
    "show()"
   ]
  },
  {
   "cell_type": "markdown",
   "metadata": {},
   "source": [
    "<font color='blue'>\n",
    "The values for orig_bytes are no longer standardize with a mean of zero and standard deviation of one. That is why the values along the x-axis are much larger in magnitude than before. \n",
    "    \n",
    "Here is the doc for scale: https://scikit-learn.org/stable/modules/generated/sklearn.preprocessing.scale.html\n",
    "\n",
    "Note, there is a difference between standardization and normalization: https://machinelearningmastery.com/normalize-standardize-machine-learning-data-weka/\n",
    "</font>\n"
   ]
  },
  {
   "cell_type": "markdown",
   "metadata": {},
   "source": [
    "Same as above, except only looking at the first 100 entries in the list (to get a prettier graph).\n",
    "\n",
    "Do you get a better insight into what happens when you remove **scale()**? What happens?"
   ]
  },
  {
   "cell_type": "code",
   "execution_count": 23,
   "metadata": {},
   "outputs": [
    {
     "data": {
      "image/png": "[encoded data removed]",
      "text/plain": [
       "<Figure size 432x288 with 1 Axes>"
      ]
     },
     "metadata": {
      "needs_background": "light"
     },
     "output_type": "display_data"
    }
   ],
   "source": [
    "samp = scale(df.orig_ip_bytes.tolist()[:100])\n",
    "\n",
    "param = norm.fit(samp) # distribution fitting\n",
    "\n",
    "# now, param[0] and param[1] are the mean and \n",
    "# the standard deviation of the fitted distribution\n",
    "x = linspace(min(samp),max(samp),len(samp))\n",
    "# fitted distribution\n",
    "pdf_fitted = norm.pdf(x,loc=param[0],scale=param[1])\n",
    "# original distribution\n",
    "pdf = norm.pdf(x)\n",
    "\n",
    "title('Normal distribution vs. Bytes for first 100 entries')\n",
    "plot(x,pdf_fitted,'r-')\n",
    "plot(x,pdf,'b-')\n",
    "hist(samp,density=1,alpha=.3)\n",
    "show()"
   ]
  },
  {
   "cell_type": "code",
   "execution_count": 24,
   "metadata": {},
   "outputs": [
    {
     "data": {
      "image/png": "[encoded data removed]",
      "text/plain": [
       "<Figure size 432x288 with 1 Axes>"
      ]
     },
     "metadata": {
      "needs_background": "light"
     },
     "output_type": "display_data"
    }
   ],
   "source": [
    "samp = df.orig_ip_bytes.tolist()[:100]\n",
    "\n",
    "param = norm.fit(samp) # distribution fitting\n",
    "\n",
    "# now, param[0] and param[1] are the mean and \n",
    "# the standard deviation of the fitted distribution\n",
    "x = linspace(min(samp),max(samp),len(samp))\n",
    "# fitted distribution\n",
    "pdf_fitted = norm.pdf(x,loc=param[0],scale=param[1])\n",
    "# original distribution\n",
    "pdf = norm.pdf(x)\n",
    "\n",
    "title('Normal distribution vs. (unscaled) Bytes for first 100 entries')\n",
    "plot(x,pdf_fitted,'r-')\n",
    "plot(x,pdf,'b-')\n",
    "hist(samp,density=1,alpha=.3)\n",
    "show()"
   ]
  },
  {
   "cell_type": "markdown",
   "metadata": {},
   "source": [
    "### More Data\n",
    "\n",
    "Run through the exercises above (up until the Box Plot section) on the full list of numbers in the *orig_ip_bytes* column. \n",
    "\n",
    "What are some of the differences? How good was the random sample that was taken in the first lab?\n",
    "\n",
    "*Hint: the file you want to read in is \"./orig_ip_bytes.log\". This file only contains one column, so take that into account when reading the file in. Also, no need to add the out_in_ratio columns since the other columns are present*\n",
    "\n",
    "However, before you begin there's one last thing that will be useful to know. IPython supports cell magic functions. You can get a list of them by creating a cell and executing **%lsmagic** in it. \n",
    "\n",
    "First create a new cell and run *%reset out* in it (don't forget to hit 'y'). This will clear all the output, and free up a bit of memory for this next set.\n",
    "\n",
    "Since this is a bigger dataset don't worry when some of the steps require waiting for a couple of minutes."
   ]
  },
  {
   "cell_type": "code",
   "execution_count": null,
   "metadata": {},
   "outputs": [],
   "source": [
    "#%lsmagic"
   ]
  },
  {
   "cell_type": "code",
   "execution_count": 25,
   "metadata": {},
   "outputs": [],
   "source": [
    "df = pd.read_csv('orig_ip_bytes.log', header=None, names=['orig_ip_bytes'])"
   ]
  },
  {
   "cell_type": "markdown",
   "metadata": {},
   "source": [
    "<font color='blue'>\n",
    "I unzipped the folder called orig_ip_bytes.log and then copied the file directly to the Lab 3 directory.\n",
    "</font>"
   ]
  },
  {
   "cell_type": "code",
   "execution_count": 26,
   "metadata": {},
   "outputs": [
    {
     "data": {
      "text/html": [
       "<div>\n",
       "<style scoped>\n",
       "    .dataframe tbody tr th:only-of-type {\n",
       "        vertical-align: middle;\n",
       "    }\n",
       "\n",
       "    .dataframe tbody tr th {\n",
       "        vertical-align: top;\n",
       "    }\n",
       "\n",
       "    .dataframe thead th {\n",
       "        text-align: right;\n",
       "    }\n",
       "</style>\n",
       "<table border=\"1\" class=\"dataframe\">\n",
       "  <thead>\n",
       "    <tr style=\"text-align: right;\">\n",
       "      <th></th>\n",
       "      <th>orig_ip_bytes</th>\n",
       "    </tr>\n",
       "  </thead>\n",
       "  <tbody>\n",
       "    <tr>\n",
       "      <th>0</th>\n",
       "      <td>52</td>\n",
       "    </tr>\n",
       "    <tr>\n",
       "      <th>1</th>\n",
       "      <td>382</td>\n",
       "    </tr>\n",
       "    <tr>\n",
       "      <th>2</th>\n",
       "      <td>382</td>\n",
       "    </tr>\n",
       "    <tr>\n",
       "      <th>3</th>\n",
       "      <td>382</td>\n",
       "    </tr>\n",
       "    <tr>\n",
       "      <th>4</th>\n",
       "      <td>968</td>\n",
       "    </tr>\n",
       "  </tbody>\n",
       "</table>\n",
       "</div>"
      ],
      "text/plain": [
       "   orig_ip_bytes\n",
       "0             52\n",
       "1            382\n",
       "2            382\n",
       "3            382\n",
       "4            968"
      ]
     },
     "execution_count": 26,
     "metadata": {},
     "output_type": "execute_result"
    }
   ],
   "source": [
    "df.head()"
   ]
  },
  {
   "cell_type": "code",
   "execution_count": 27,
   "metadata": {},
   "outputs": [],
   "source": [
    "df = df.fillna(0)"
   ]
  },
  {
   "cell_type": "code",
   "execution_count": 28,
   "metadata": {},
   "outputs": [
    {
     "data": {
      "text/plain": [
       "orig_ip_bytes    int64\n",
       "dtype: object"
      ]
     },
     "execution_count": 28,
     "metadata": {},
     "output_type": "execute_result"
    }
   ],
   "source": [
    "df.dtypes"
   ]
  },
  {
   "cell_type": "code",
   "execution_count": 29,
   "metadata": {},
   "outputs": [
    {
     "data": {
      "text/plain": [
       "orig_ip_bytes    float64\n",
       "dtype: object"
      ]
     },
     "execution_count": 29,
     "metadata": {},
     "output_type": "execute_result"
    }
   ],
   "source": [
    "df['orig_ip_bytes'] = df['orig_ip_bytes'].apply(lambda x: np.nan if x == '-' else x).astype(np.float64)\n",
    "df.dtypes"
   ]
  },
  {
   "cell_type": "code",
   "execution_count": 30,
   "metadata": {},
   "outputs": [
    {
     "data": {
      "text/html": [
       "<div>\n",
       "<style scoped>\n",
       "    .dataframe tbody tr th:only-of-type {\n",
       "        vertical-align: middle;\n",
       "    }\n",
       "\n",
       "    .dataframe tbody tr th {\n",
       "        vertical-align: top;\n",
       "    }\n",
       "\n",
       "    .dataframe thead th {\n",
       "        text-align: right;\n",
       "    }\n",
       "</style>\n",
       "<table border=\"1\" class=\"dataframe\">\n",
       "  <thead>\n",
       "    <tr style=\"text-align: right;\">\n",
       "      <th></th>\n",
       "      <th>orig_ip_bytes</th>\n",
       "    </tr>\n",
       "  </thead>\n",
       "  <tbody>\n",
       "    <tr>\n",
       "      <th>count</th>\n",
       "      <td>2.269436e+07</td>\n",
       "    </tr>\n",
       "    <tr>\n",
       "      <th>mean</th>\n",
       "      <td>2.811454e+02</td>\n",
       "    </tr>\n",
       "    <tr>\n",
       "      <th>std</th>\n",
       "      <td>2.336833e+05</td>\n",
       "    </tr>\n",
       "    <tr>\n",
       "      <th>min</th>\n",
       "      <td>0.000000e+00</td>\n",
       "    </tr>\n",
       "    <tr>\n",
       "      <th>25%</th>\n",
       "      <td>4.400000e+01</td>\n",
       "    </tr>\n",
       "    <tr>\n",
       "      <th>50%</th>\n",
       "      <td>4.800000e+01</td>\n",
       "    </tr>\n",
       "    <tr>\n",
       "      <th>75%</th>\n",
       "      <td>6.000000e+01</td>\n",
       "    </tr>\n",
       "    <tr>\n",
       "      <th>max</th>\n",
       "      <td>8.951564e+08</td>\n",
       "    </tr>\n",
       "  </tbody>\n",
       "</table>\n",
       "</div>"
      ],
      "text/plain": [
       "       orig_ip_bytes\n",
       "count   2.269436e+07\n",
       "mean    2.811454e+02\n",
       "std     2.336833e+05\n",
       "min     0.000000e+00\n",
       "25%     4.400000e+01\n",
       "50%     4.800000e+01\n",
       "75%     6.000000e+01\n",
       "max     8.951564e+08"
      ]
     },
     "execution_count": 30,
     "metadata": {},
     "output_type": "execute_result"
    }
   ],
   "source": [
    "df.describe()"
   ]
  },
  {
   "cell_type": "code",
   "execution_count": 31,
   "metadata": {},
   "outputs": [
    {
     "data": {
      "text/plain": [
       "233683.31874586598"
      ]
     },
     "execution_count": 31,
     "metadata": {},
     "output_type": "execute_result"
    }
   ],
   "source": [
    "df.orig_ip_bytes.std()"
   ]
  },
  {
   "cell_type": "code",
   "execution_count": 32,
   "metadata": {},
   "outputs": [
    {
     "data": {
      "text/plain": [
       "54607893460.082"
      ]
     },
     "execution_count": 32,
     "metadata": {},
     "output_type": "execute_result"
    }
   ],
   "source": [
    "df.orig_ip_bytes.var()"
   ]
  },
  {
   "cell_type": "code",
   "execution_count": 33,
   "metadata": {},
   "outputs": [
    {
     "data": {
      "text/plain": [
       "ModeResult(mode=array([60.]), count=array([8199655.]))"
      ]
     },
     "execution_count": 33,
     "metadata": {},
     "output_type": "execute_result"
    }
   ],
   "source": [
    "from scipy.stats.mstats import mode\n",
    "f = lambda x: mode(x, axis=None)[0]\n",
    "#[value, count] returned by mode()\n",
    "mode(df.orig_ip_bytes)"
   ]
  },
  {
   "cell_type": "markdown",
   "metadata": {},
   "source": [
    "<font color='blue'>\n",
    "Final comment: Understanding the distribution of your data is important: the shape of the data, how far the values are from the mean, outliers, etc. This step is done to prep and clean the data for analysis and modeling. This allows for the opportunity to standardize or normalize the features (the columns), or create new features (feature engineering). \n",
    "    \n",
    "As the saying goes, \"Data scientists spend 80% of their time cleaning and manipulating data and only 20% of their time actually analyzing it.\" Though, it does take some time to do. It is worth the effort to avoid \"garbage\" models/analysis. Scripts can be created to automate the process. \n",
    "\n",
    "There are many other data cleaning and preprocessing techniques available beyond this lab. Take care to be familarized with them as a toolset for any data analyst/scientist/engineer. \n",
    "</font>"
   ]
  }
 ],
 "metadata": {
  "kernelspec": {
   "display_name": "machinelearning",
   "language": "python",
   "name": "machinelearning"
  },
  "language_info": {
   "codemirror_mode": {
    "name": "ipython",
    "version": 3
   },
   "file_extension": ".py",
   "mimetype": "text/x-python",
   "name": "python",
   "nbconvert_exporter": "python",
   "pygments_lexer": "ipython3",
   "version": "3.7.1"
  }
 },
 "nbformat": 4,
 "nbformat_minor": 1
}
